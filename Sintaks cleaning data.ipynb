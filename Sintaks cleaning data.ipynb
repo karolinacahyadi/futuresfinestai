{
 "cells": [
  {
   "cell_type": "code",
   "execution_count": 1,
   "id": "14f2e199",
   "metadata": {},
   "outputs": [],
   "source": [
    "import pandas as pd\n",
    "\n",
    "df = pd.read_csv('./games.csv')"
   ]
  },
  {
   "cell_type": "code",
   "execution_count": 2,
   "id": "79c73219",
   "metadata": {},
   "outputs": [],
   "source": [
    "columns_to_drop = ['Achievements', 'Support url', 'Support email', 'Movies', 'Peak CCU', \n",
    "                  'Screenshots', 'Recommendations', 'Notes', 'Average playtime forever', \n",
    "                  'Average playtime two weeks', 'Median playtime forever', 'Median playtime two weeks',\n",
    "                  'Metacritic score', 'Metacritic url', 'Estimated owners', 'User score', 'Full audio languages','Score rank','Reviews']\n",
    "df = df.drop(columns=columns_to_drop)"
   ]
  },
  {
   "cell_type": "code",
   "execution_count": 3,
   "id": "cb8601d1",
   "metadata": {},
   "outputs": [],
   "source": [
    "df = df.drop_duplicates()"
   ]
  },
  {
   "cell_type": "code",
   "execution_count": 4,
   "id": "3f7b3cbb",
   "metadata": {},
   "outputs": [],
   "source": [
    "df = df.dropna(subset=['Price', 'Release date'])\n",
    "\n",
    "df = df[(df['Price'] != 0)]"
   ]
  },
  {
   "cell_type": "code",
   "execution_count": null,
   "id": "cd733179",
   "metadata": {},
   "outputs": [],
   "source": [
    "import re\n",
    "\n",
    "def contains_non_ascii(text):\n",
    "    return bool(re.search(r'[^\\x00-\\x7F]', str(text)))\n",
    "\n",
    "df = df[~df.apply(lambda col: col.map(contains_non_ascii)).any(axis=1)]"
   ]
  },
  {
   "cell_type": "code",
   "execution_count": 7,
   "id": "52e5c24c",
   "metadata": {},
   "outputs": [
    {
     "name": "stdout",
     "output_type": "stream",
     "text": [
      "     AppID                                Name  Release date  Required age  \\\n",
      "0    20200                    Galactic Bowling  Oct 21, 2008             0   \n",
      "1   655370                        Train Bandit  Oct 12, 2017             0   \n",
      "6  1659180                           TD Worlds   Jan 9, 2022             0   \n",
      "7  1968760  Legend of Rome - The Wrath of Mars   May 5, 2022             0   \n",
      "8  1178150               MazM: Jekyll and Hyde   Apr 2, 2020             0   \n",
      "\n",
      "   Price  DLC count                                     About the game  \\\n",
      "0  19.99          0  Galactic Bowling is an exaggerated and stylize...   \n",
      "1   0.99          0  THE LAW!! Looks to be a showdown atop a train....   \n",
      "6  10.99          1  TD Worlds is a dynamic, highly strategical gam...   \n",
      "7   9.99          0  When the Roman people honored a simple warrior...   \n",
      "8  14.99          0  'MazM: Jekyll and Hyde' is a darkly entertaini...   \n",
      "\n",
      "                                 Supported languages  \\\n",
      "0                                        ['English']   \n",
      "1  ['English', 'French', 'Italian', 'German', 'Sp...   \n",
      "6                   ['English', 'Russian', 'Danish']   \n",
      "7                              ['English', 'German']   \n",
      "8  ['English', 'French', 'Italian', 'German', 'Sp...   \n",
      "\n",
      "                                        Header image  \\\n",
      "0  https://cdn.akamai.steamstatic.com/steam/apps/...   \n",
      "1  https://cdn.akamai.steamstatic.com/steam/apps/...   \n",
      "6  https://cdn.akamai.steamstatic.com/steam/apps/...   \n",
      "7  https://cdn.akamai.steamstatic.com/steam/apps/...   \n",
      "8  https://cdn.akamai.steamstatic.com/steam/apps/...   \n",
      "\n",
      "                          Website  Windows    Mac  Linux  Positive  Negative  \\\n",
      "0  http://www.galacticbowling.net     True  False  False         6        11   \n",
      "1          http://trainbandit.com     True   True  False        53         5   \n",
      "6                             NaN     True  False  False        21         7   \n",
      "7          http://magnussoft.biz/     True  False  False         0         0   \n",
      "8              http://www.cfk.kr/     True  False  False        76         6   \n",
      "\n",
      "              Developers             Publishers  \\\n",
      "0  Perpetual FX Creative  Perpetual FX Creative   \n",
      "1           Rusty Moyher           Wild Rooster   \n",
      "6          MAKSIM VOLKAU          MAKSIM VOLKAU   \n",
      "7             magnussoft             magnussoft   \n",
      "8          Growing Seeds          CFK Co., Ltd.   \n",
      "\n",
      "                                          Categories  \\\n",
      "0  Single-player,Multi-player,Steam Achievements,...   \n",
      "1  Single-player,Steam Achievements,Full controll...   \n",
      "6       Single-player,Steam Achievements,Steam Cloud   \n",
      "7                          Single-player,Steam Cloud   \n",
      "8  Single-player,Steam Achievements,Full controll...   \n",
      "\n",
      "                              Genres  \\\n",
      "0                Casual,Indie,Sports   \n",
      "1                       Action,Indie   \n",
      "6                     Indie,Strategy   \n",
      "7                             Casual   \n",
      "8  Adventure,RPG,Simulation,Strategy   \n",
      "\n",
      "                                                Tags  \n",
      "0                        Indie,Casual,Sports,Bowling  \n",
      "1  Indie,Action,Pixel Graphics,2D,Retro,Arcade,Sc...  \n",
      "6  Tower Defense,Rogue-lite,RTS,Replay Value,Perm...  \n",
      "7                                                NaN  \n",
      "8  Adventure,Simulation,RPG,Strategy,Singleplayer...  \n"
     ]
    }
   ],
   "source": [
    "print(df.head())"
   ]
  },
  {
   "cell_type": "code",
   "execution_count": 8,
   "id": "abd5217b",
   "metadata": {},
   "outputs": [
    {
     "name": "stdout",
     "output_type": "stream",
     "text": [
      "(39478, 20)\n"
     ]
    }
   ],
   "source": [
    "print(df.shape)"
   ]
  },
  {
   "cell_type": "code",
   "execution_count": 10,
   "id": "767cdd31",
   "metadata": {},
   "outputs": [],
   "source": [
    "df.to_csv('fixgames.csv', index=False)"
   ]
  },
  {
   "cell_type": "code",
   "execution_count": null,
   "id": "cdce4bac",
   "metadata": {},
   "outputs": [],
   "source": []
  }
 ],
 "metadata": {
  "kernelspec": {
   "display_name": "Python 3 (ipykernel)",
   "language": "python",
   "name": "python3"
  },
  "language_info": {
   "codemirror_mode": {
    "name": "ipython",
    "version": 3
   },
   "file_extension": ".py",
   "mimetype": "text/x-python",
   "name": "python",
   "nbconvert_exporter": "python",
   "pygments_lexer": "ipython3",
   "version": "3.11.7"
  }
 },
 "nbformat": 4,
 "nbformat_minor": 5
}
